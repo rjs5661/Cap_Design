{
 "cells": [
  {
   "cell_type": "markdown",
   "id": "308d9563-1032-4881-9364-e5e195df4921",
   "metadata": {},
   "source": [
    "# 텍스트 클렌징 테스트"
   ]
  },
  {
   "cell_type": "code",
   "execution_count": 1,
   "id": "45a74957-6f27-463a-8893-e9f1fcd1eaa0",
   "metadata": {},
   "outputs": [],
   "source": [
    "import requests\n",
    "from bs4 import BeautifulSoup\n",
    "\n",
    "import re\n",
    "import textacy.preprocessing as tprep\n",
    "import nltk\n",
    "import spacy\n",
    "\n",
    "from konlpy.tag import Okt\n",
    "\n",
    "import numpy as np\n",
    "import pandas as pd\n",
    "\n",
    "import datetime\n",
    "import time\n",
    "\n",
    "from tqdm import tqdm\n",
    "\n",
    "import pickle"
   ]
  },
  {
   "cell_type": "markdown",
   "id": "c50d4fec-c4a7-4cf9-b73a-6b6e8229e2f5",
   "metadata": {},
   "source": [
    "### raw data 수집 함수: 오늘 첫 10장 분량만 획득"
   ]
  },
  {
   "cell_type": "code",
   "execution_count": 2,
   "id": "5fd24486-1bb8-4463-8b6a-a136445db111",
   "metadata": {},
   "outputs": [],
   "source": [
    "def crawl(start=None, end=None) :\n",
    "    BASE_URL = 'https://news.naver.com/main/list.naver?mode=LSD&mid=sec&listType=title&'\n",
    "\n",
    "    page = 1\n",
    "    date = datetime.datetime.now()\n",
    "    titles = []\n",
    "\n",
    "    for tiem in tqdm(range(50)):\n",
    "        url = BASE_URL\n",
    "        url += f'date={str(date.year) + str(date.month).zfill(2) + str(date.day).zfill(2)}&'\n",
    "        url += f'page={page}'\n",
    "        \n",
    "        res = requests.get(url)\n",
    "        bs = BeautifulSoup(res.text)\n",
    "        titles.extend([e.get_text() for e in bs.find_all('a', class_=\"nclicks(fls.list)\")])\n",
    "\n",
    "        page += 1\n",
    "        time.sleep(1)\n",
    "\n",
    "    return titles"
   ]
  },
  {
   "cell_type": "code",
   "execution_count": 3,
   "id": "52603406-c59f-4c17-a227-a47d00197e96",
   "metadata": {},
   "outputs": [],
   "source": [
    "try:\n",
    "    with open('raw_titles.pkl', 'rb') as f:\n",
    "        raw_titles = pickle.load(f)\n",
    "\n",
    "except:\n",
    "    raw_titles = crawl()"
   ]
  },
  {
   "cell_type": "code",
   "execution_count": 4,
   "id": "2b7f465c-946f-4288-91d9-523729126257",
   "metadata": {},
   "outputs": [
    {
     "data": {
      "text/plain": [
       "array([\"'클럽 마약' 허벅지에 숨겨 밀수입한 운반책들 2심도 실형\", \"'야구명가' 컴투스, 야구 인기 급등에 신바람 탔다\",\n",
       "       '가자전쟁 6개월…“아동 7000명 심각한 영양실조”',\n",
       "       \"용인시, 보정동 카페거리 등 5곳 '골목형 상점가' 지정 추진\", '‘당신을 위한 튜브’… 흥미진진한 알레고리',\n",
       "       '비욘세, 흑인여성 첫 ‘컨트리’ 1위…귀를 의심한 충격적 걸작',\n",
       "       \"'북중친선의 해' 개막식에서 연설하는 중국 자오러지\",\n",
       "       \"[영상] 탐사보고서 기록 '주문하신 커피 나왔습니다' 예고편\",\n",
       "       '미국·필리핀, 외교·국방·안보보좌관 회의…“중국 공세 대응 공조”',\n",
       "       '엔클로니, 2023년 설립 이래 최대 매출…IPO 청신호'], dtype='<U98')"
      ]
     },
     "execution_count": 4,
     "metadata": {},
     "output_type": "execute_result"
    }
   ],
   "source": [
    "np.random.choice(raw_titles, 10)"
   ]
  },
  {
   "cell_type": "markdown",
   "id": "6060928b-43aa-4133-8a2c-26fdec59ace0",
   "metadata": {},
   "source": [
    "with open('raw_titles.pkl', 'wb') as f:\n",
    "    pickle.dump(raw_titles, f)"
   ]
  },
  {
   "cell_type": "markdown",
   "id": "2f19c0b5-d872-49e8-9fbb-83a3aaab9d41",
   "metadata": {},
   "source": [
    "pat = r'[\\(\\{\\[]+[ㄱ-ㅎ-가-힣\\w\\s,]+[^ㄱ-ㅎ-가-힣\\w\\s]*[\\]\\}\\)]+'"
   ]
  },
  {
   "cell_type": "markdown",
   "id": "a4f3d202-24e0-4fed-bcf4-a01368080a64",
   "metadata": {},
   "source": [
    "https://n.news.naver.com/mnews/article/001/0014628755?rc=N&ntype=RANKING 이건 뭐지?"
   ]
  },
  {
   "cell_type": "markdown",
   "id": "61007f84-1db4-43cd-8d4b-9a697aa00941",
   "metadata": {},
   "source": [
    "clean_titles = list(map(normalize_punct, raw_titles))\n",
    "clean_titles"
   ]
  },
  {
   "cell_type": "markdown",
   "id": "7aeb8eff-d8f9-4a80-900a-d60559ce226c",
   "metadata": {},
   "source": [
    "[연합뉴스 이 시각 헤드라인] - 10:30\n",
    "인천∼제주\n",
    "고대장이 간다? 유이도도 한다!\n",
    "AI=반도체+구리?\n",
    "SLOVENIA-KAMNIK-TULIPS\n",
    "3.2%\n",
    "딴 남자 만나지? \n",
    "여성ㆍ퀴어\n",
    "19∼21일\n",
    "″가자지구 중부 난민캠프 공격..언론인들 부상\n",
    "Roundup:\n",
    "주유소 기름값 오름세 지속‥, 찾길‥제가\n",
    "K-관광"
   ]
  },
  {
   "cell_type": "markdown",
   "id": "17155e0e-aadf-411f-b1a6-cc7bf2913daa",
   "metadata": {},
   "source": [
    "tprep.normalize.quotation_marks('″가자지구 중부 난민캠프 공격..언론인들 부상')"
   ]
  },
  {
   "cell_type": "code",
   "execution_count": 5,
   "id": "bcaea1e1-b073-4e52-99c9-e7e17348bfd3",
   "metadata": {},
   "outputs": [
    {
     "data": {
      "text/plain": [
       "8243"
      ]
     },
     "execution_count": 5,
     "metadata": {},
     "output_type": "execute_result"
    }
   ],
   "source": [
    "ord('″')"
   ]
  },
  {
   "cell_type": "code",
   "execution_count": 6,
   "id": "559d5e9c-9fcb-4f66-881b-5a2839f76db4",
   "metadata": {},
   "outputs": [
    {
     "data": {
      "text/plain": [
       "'0x2033'"
      ]
     },
     "execution_count": 6,
     "metadata": {},
     "output_type": "execute_result"
    }
   ],
   "source": [
    "hex(8243)"
   ]
  },
  {
   "cell_type": "markdown",
   "id": "d4c4a46a-24e1-497d-9620-89fbe1100b4c",
   "metadata": {},
   "source": [
    "normalize_punct('가자지구 중부 난민캠프 공격..언론인들 부상')"
   ]
  },
  {
   "cell_type": "code",
   "execution_count": 7,
   "id": "255bd610-81c3-4fc6-bf56-2774ae720059",
   "metadata": {},
   "outputs": [
    {
     "data": {
      "text/plain": [
       "'DOUBLE PRIME'"
      ]
     },
     "execution_count": 7,
     "metadata": {},
     "output_type": "execute_result"
    }
   ],
   "source": [
    "import unicodedata\n",
    "\n",
    "unicodedata.name('″')"
   ]
  },
  {
   "cell_type": "code",
   "execution_count": 8,
   "id": "72e5a3a1-bc52-4672-b734-74f26b49dd6c",
   "metadata": {},
   "outputs": [
    {
     "data": {
      "text/plain": [
       "'″'"
      ]
     },
     "execution_count": 8,
     "metadata": {},
     "output_type": "execute_result"
    }
   ],
   "source": [
    "tprep.normalize.unicode('″')"
   ]
  },
  {
   "cell_type": "code",
   "execution_count": 9,
   "id": "0d7c1c8c-6205-46a9-895b-9c1691d6fe09",
   "metadata": {
    "scrolled": true
   },
   "outputs": [
    {
     "data": {
      "text/plain": [
       "' 가자지구 중부 난민캠프 공격  언론인들 부상'"
      ]
     },
     "execution_count": 9,
     "metadata": {},
     "output_type": "execute_result"
    }
   ],
   "source": [
    "tprep.remove.punctuation('″가자지구 중부 난민캠프 공격..언론인들 부상')"
   ]
  },
  {
   "cell_type": "markdown",
   "id": "a76e5728-2146-42cc-8794-bde440e289d2",
   "metadata": {},
   "source": [
    "## 클렌징 품질 향상: 문장 부호 클렌징 점수를 기준으로 평가"
   ]
  },
  {
   "cell_type": "markdown",
   "id": "9733853d-ce4e-4523-95c2-ef99a3111819",
   "metadata": {},
   "source": [
    "{\\text{문장부호}+\\text{[속보], (단독)식의 단어들 등}} \\over \\text{문장 길이}}"
   ]
  },
  {
   "cell_type": "code",
   "execution_count": 10,
   "id": "5f1e5fe2-c841-44fd-a515-4b48027f82ed",
   "metadata": {},
   "outputs": [
    {
     "data": {
      "text/plain": [
       "'\\n    클렌징 점수 평가 방법\\n        1. 전체 데이터셋을 검사해 문장 부호 집합 생성\\n        2. 각 제목으로부터 문장 부호 + (~) / 단어 구분\\n        3. 각 제목에 있는 문장 부호, (~) 존재 여부, 1.23% 따위의 표현 존재 여부, 불릿 표시 존재 여부 등을 OHV로 변환\\n\\n        결과: 문장부호 정규화시킨 제목 -> 문장부호 없어진 제목\\n'"
      ]
     },
     "execution_count": 10,
     "metadata": {},
     "output_type": "execute_result"
    }
   ],
   "source": [
    "\"\"\"\n",
    "    클렌징 점수 평가 방법\n",
    "        1. 전체 데이터셋을 검사해 문장 부호 집합 생성\n",
    "        2. 각 제목으로부터 문장 부호 + (~) / 단어 구분\n",
    "        3. 각 제목에 있는 문장 부호, (~) 존재 여부, 1.23% 따위의 표현 존재 여부, 불릿 표시 존재 여부 등을 OHV로 변환\n",
    "\n",
    "        결과: 문장부호 정규화시킨 제목 -> 문장부호 없어진 제목\n",
    "\"\"\""
   ]
  },
  {
   "cell_type": "markdown",
   "id": "aa81ffb5-4023-44cd-b927-7f7898ca0673",
   "metadata": {},
   "source": [
    "크롤링\n",
    "-> 문장부호 정규화\n",
    "-> 불필요한 문장부호 + 표현 제거"
   ]
  },
  {
   "cell_type": "code",
   "execution_count": 11,
   "id": "0985c9ce-39cd-4842-b2b9-f3b8ee1c77ed",
   "metadata": {},
   "outputs": [],
   "source": [
    "def get_punct_list(title):\n",
    "    return re.findall(r'[^ㄱ-ㅎ-가-힣\\w\\s\\(\\{\\[\\)\\}\\]]', title)"
   ]
  },
  {
   "cell_type": "code",
   "execution_count": 12,
   "id": "e2300f8d-d68d-47e2-ac4b-146f5352cc53",
   "metadata": {},
   "outputs": [],
   "source": [
    "def get_punct_set(titles):\n",
    "    punct_set = set()\n",
    "    titles.apply(lambda x: punct_set.update(get_punct_list(x)))\n",
    "    return punct_set"
   ]
  },
  {
   "cell_type": "code",
   "execution_count": 13,
   "id": "6ae5f039-5d84-4d20-9214-b227708b86af",
   "metadata": {
    "scrolled": true
   },
   "outputs": [
    {
     "data": {
      "text/plain": [
       "{'!',\n",
       " '\"',\n",
       " '#',\n",
       " '%',\n",
       " '&',\n",
       " \"'\",\n",
       " '+',\n",
       " ',',\n",
       " '.',\n",
       " '/',\n",
       " ':',\n",
       " '=',\n",
       " '>',\n",
       " '?',\n",
       " '`',\n",
       " '~',\n",
       " '·',\n",
       " '‘',\n",
       " '’',\n",
       " '“',\n",
       " '”',\n",
       " '‥',\n",
       " '…',\n",
       " '‧',\n",
       " '″',\n",
       " '℃',\n",
       " '↑',\n",
       " '→',\n",
       " '↓',\n",
       " '∼',\n",
       " '㈜',\n",
       " '㎏',\n",
       " '㎝',\n",
       " '㎞',\n",
       " '㎡',\n",
       " '％',\n",
       " '［',\n",
       " '］'}"
      ]
     },
     "execution_count": 13,
     "metadata": {},
     "output_type": "execute_result"
    }
   ],
   "source": [
    "titles = pd.Series(raw_titles)\n",
    "punct_set = get_punct_set(titles)\n",
    "punct_set"
   ]
  },
  {
   "cell_type": "markdown",
   "id": "3800d1c8-ffae-4e3a-8b85-e5dcfd187997",
   "metadata": {},
   "source": [
    "- 빈 집합 생성\n",
    "- 각 문장에 있는 문장 부호 리스트 획득\n",
    "- 리스트 원소를 집합의 요소로 추가\n",
    "- 최종 결과물: 데이터셋 내에 있는 문장 부호 리스트"
   ]
  },
  {
   "cell_type": "code",
   "execution_count": 14,
   "id": "f317f29d-fd55-460d-a3a6-f0fa4a16e144",
   "metadata": {},
   "outputs": [
    {
     "data": {
      "text/plain": [
       "65339"
      ]
     },
     "execution_count": 14,
     "metadata": {},
     "output_type": "execute_result"
    }
   ],
   "source": [
    "ord('［')"
   ]
  },
  {
   "cell_type": "code",
   "execution_count": 15,
   "id": "5eb883df-3f15-4ab0-9b48-f8a1870c85df",
   "metadata": {},
   "outputs": [
    {
     "data": {
      "text/plain": [
       "91"
      ]
     },
     "execution_count": 15,
     "metadata": {},
     "output_type": "execute_result"
    }
   ],
   "source": [
    "ord('[')"
   ]
  },
  {
   "cell_type": "code",
   "execution_count": 16,
   "id": "0143171e-ede0-41e6-ae00-22a53761635b",
   "metadata": {
    "scrolled": true
   },
   "outputs": [
    {
     "name": "stdout",
     "output_type": "stream",
     "text": [
      "('“', 8220) ('?', 63) ('”', 8221) ('·', 183) ('∼', 8764) ('+', 43) (':', 58) ('‥', 8229) ('>', 62) ('\"', 34) ('.', 46) ('/', 47) ('=', 61) ('~', 126) ('‘', 8216) (',', 44) ('’', 8217) ('#', 35) ('］', 65341) (\"'\", 39) ('［', 65339) ('‧', 8231) ('℃', 8451) ('…', 8230) ('″', 8243) ('％', 65285) ('㎡', 13217) ('↓', 8595) ('&', 38) ('㎝', 13213) ('↑', 8593) ('→', 8594) ('!', 33) ('%', 37) ('㎞', 13214) ('㎏', 13199) ('㈜', 12828) ('`', 96)\n"
     ]
    }
   ],
   "source": [
    "print(*[(p, ord(p)) for p in punct_set])"
   ]
  },
  {
   "cell_type": "raw",
   "id": "d1fa3d27-6093-4eca-95f5-4d011c33d3ce",
   "metadata": {},
   "source": [
    "살릴 것: 단위, 화살표\n",
    "합칠 것: 중복되는 표현 (ex. ('％', 65285), ('［', 65339) , ('″', 8243), ('‧', 8231), ('∼', 8764))"
   ]
  },
  {
   "cell_type": "code",
   "execution_count": 17,
   "id": "9cf634f8-d417-46f3-9fbe-d742b5241d8f",
   "metadata": {},
   "outputs": [
    {
     "data": {
      "text/plain": [
       "'민주 \"국정 쇄신은 ‘해병대원 순직 수사외압’ 특검 수용서 시작”'"
      ]
     },
     "execution_count": 17,
     "metadata": {},
     "output_type": "execute_result"
    }
   ],
   "source": [
    "'민주 “국정 쇄신은 ‘해병대원 순직 수사외압’ 특검 수용서 시작”'.translate({ord('“'): ord('\"')})"
   ]
  },
  {
   "cell_type": "markdown",
   "id": "e264fbe4-4e57-43de-93c0-f5144b0a3ff4",
   "metadata": {},
   "source": [
    "계속 긁어오다 마지막 원소가 직전과 같다면 크롤링 종료? X<br>\n",
    "<br>\n",
    "'다음' 버튼이 나와있지 않고 + 페이지 목록에서 마지막 번호면 -> 그 날의 끝으로 간주"
   ]
  },
  {
   "cell_type": "markdown",
   "id": "f8e725e7-2ba8-4cb1-b11b-652ebc2ae6cc",
   "metadata": {},
   "source": [
    "아주 적은 빈도의 특수문자들은 치환하지 않고 없애버려서 테이블 크기를 줄이자!\n",
    "1. 전체 데이터에 있는 특수문자들 목록 + 빈도를 알아낸다\n",
    "2. 거의 없는 특수문자들이 뭔지 알아낸다\n",
    "3. 정규화하는 기능을 만들어낼 때<br>\n",
    "    3-1. 자주 나오는 특수문자들은 치환하고<br>\n",
    "    3-2. 자주 나오지 않는 특수문자들은 치환하지 않고 제거한다?"
   ]
  },
  {
   "cell_type": "code",
   "execution_count": 18,
   "id": "86a0f1c5-7606-46a3-8067-29c92c8a5c6c",
   "metadata": {},
   "outputs": [
    {
     "data": {
      "text/plain": [
       "125.0"
      ]
     },
     "execution_count": 18,
     "metadata": {},
     "output_type": "execute_result"
    }
   ],
   "source": [
    "(400*50*5+200*50*2)*2.5*1.5/3600"
   ]
  },
  {
   "cell_type": "code",
   "execution_count": 19,
   "id": "6dbcd489-a5be-41e7-b3d7-eebad29fd743",
   "metadata": {},
   "outputs": [
    {
     "data": {
      "text/plain": [
       "1000000000"
      ]
     },
     "execution_count": 19,
     "metadata": {},
     "output_type": "execute_result"
    }
   ],
   "source": [
    "1000**3"
   ]
  },
  {
   "cell_type": "markdown",
   "id": "ae94c6be-988e-44c5-90ce-eb53b2ceda27",
   "metadata": {},
   "source": [
    "1. 한 달 분량 기사 긁어오기\n",
    "2. 특수문자 빈도 알아내기\n",
    "3. 하위 n개 / n% 특수문자 알아내기\n",
    "4. 정규화를 위한 테이블 만들 때\n",
    "    - 하위 n개 / n% 특수문자는 테이블로 만들지 않음\n",
    "    - 그 외엔 테이블 만들기\n",
    "5. 4에서 만든 테이블로 특수문자 정규화\n",
    "6. 정규화된 특수문자 적절하게 처리 + 테이블 목록에 없는 특수문자 (즉 하위 n개 / n% 특수문자) 제거"
   ]
  },
  {
   "cell_type": "markdown",
   "id": "770d5cb6-7ead-46b8-9201-8a316d5c78e7",
   "metadata": {},
   "source": [
    "- 처리 전 불순도 측정 (기준: 특수문자 수 + (~) 수 이용)\n",
    "- 특수문자 빈도 알아내기\n",
    "- 하위 n개 / n% 특수문자 알아내기\n",
    "- 정규화를 위한 테이블 구축 : 이 때\n",
    "    - 하위 n개 / n% 특수문자는 테이블로 만들지 않음 -> 바로 제거해버릴 것들\n",
    "    - 그 외엔 테이블 만들기 -> 정규화할 것들\n",
    "- 특수문자 정규화\n",
    "- 불필요한 특수문자 제거 (정규화된 특수문자 + 하위 특수문자)\n",
    "- (~) 따위의 표현 제거\n",
    "- 처리 후 불순도 측정\n",
    "- 만족할만한 결과가 나오면 토큰화 + 언어적 처리(ngram, 조사 제거 등) 진행"
   ]
  },
  {
   "cell_type": "code",
   "execution_count": 20,
   "id": "93900627-7b86-4076-9e46-1624c39101c7",
   "metadata": {},
   "outputs": [],
   "source": [
    "def get_punct_freq(titles):\n",
    "    punct_set = get_punct_set(titles)\n",
    "    punct_freq = {p : 0 for p in punct_set}\n",
    "    for t in titles:\n",
    "        for p in get_punct_list(t):\n",
    "            punct_freq[p] += 1\n",
    "\n",
    "    return punct_freq"
   ]
  },
  {
   "cell_type": "code",
   "execution_count": 21,
   "id": "b87cd102-3fd2-403b-8000-38a567c22ae5",
   "metadata": {
    "scrolled": true
   },
   "outputs": [
    {
     "data": {
      "text/plain": [
       "{'“': 220,\n",
       " '?': 165,\n",
       " '”': 217,\n",
       " '·': 371,\n",
       " '∼': 11,\n",
       " '+': 10,\n",
       " ':': 7,\n",
       " '‥': 22,\n",
       " '>': 7,\n",
       " '\"': 933,\n",
       " '.': 486,\n",
       " '/': 1,\n",
       " '=': 1,\n",
       " '~': 20,\n",
       " '‘': 256,\n",
       " ',': 783,\n",
       " '’': 260,\n",
       " '#': 4,\n",
       " '］': 2,\n",
       " \"'\": 1080,\n",
       " '［': 2,\n",
       " '‧': 1,\n",
       " '℃': 2,\n",
       " '…': 1004,\n",
       " '″': 1,\n",
       " '％': 2,\n",
       " '㎡': 8,\n",
       " '↓': 9,\n",
       " '&': 8,\n",
       " '㎝': 1,\n",
       " '↑': 9,\n",
       " '→': 11,\n",
       " '!': 21,\n",
       " '%': 77,\n",
       " '㎞': 2,\n",
       " '㎏': 1,\n",
       " '㈜': 1,\n",
       " '`': 10}"
      ]
     },
     "execution_count": 21,
     "metadata": {},
     "output_type": "execute_result"
    }
   ],
   "source": [
    "punct_freq = get_punct_freq(titles)\n",
    "punct_freq"
   ]
  },
  {
   "cell_type": "code",
   "execution_count": 22,
   "id": "bdfd277e-0bc0-4b43-8183-7df49e189cd6",
   "metadata": {
    "scrolled": true
   },
   "outputs": [
    {
     "data": {
      "text/html": [
       "<div>\n",
       "<style scoped>\n",
       "    .dataframe tbody tr th:only-of-type {\n",
       "        vertical-align: middle;\n",
       "    }\n",
       "\n",
       "    .dataframe tbody tr th {\n",
       "        vertical-align: top;\n",
       "    }\n",
       "\n",
       "    .dataframe thead th {\n",
       "        text-align: right;\n",
       "    }\n",
       "</style>\n",
       "<table border=\"1\" class=\"dataframe\">\n",
       "  <thead>\n",
       "    <tr style=\"text-align: right;\">\n",
       "      <th></th>\n",
       "      <th>0</th>\n",
       "      <th>1</th>\n",
       "      <th>2</th>\n",
       "    </tr>\n",
       "  </thead>\n",
       "  <tbody>\n",
       "    <tr>\n",
       "      <th>19</th>\n",
       "      <td>'</td>\n",
       "      <td>39</td>\n",
       "      <td>1080</td>\n",
       "    </tr>\n",
       "    <tr>\n",
       "      <th>23</th>\n",
       "      <td>…</td>\n",
       "      <td>8230</td>\n",
       "      <td>1004</td>\n",
       "    </tr>\n",
       "    <tr>\n",
       "      <th>9</th>\n",
       "      <td>\"</td>\n",
       "      <td>34</td>\n",
       "      <td>933</td>\n",
       "    </tr>\n",
       "    <tr>\n",
       "      <th>15</th>\n",
       "      <td>,</td>\n",
       "      <td>44</td>\n",
       "      <td>783</td>\n",
       "    </tr>\n",
       "    <tr>\n",
       "      <th>10</th>\n",
       "      <td>.</td>\n",
       "      <td>46</td>\n",
       "      <td>486</td>\n",
       "    </tr>\n",
       "    <tr>\n",
       "      <th>3</th>\n",
       "      <td>·</td>\n",
       "      <td>183</td>\n",
       "      <td>371</td>\n",
       "    </tr>\n",
       "    <tr>\n",
       "      <th>16</th>\n",
       "      <td>’</td>\n",
       "      <td>8217</td>\n",
       "      <td>260</td>\n",
       "    </tr>\n",
       "    <tr>\n",
       "      <th>14</th>\n",
       "      <td>‘</td>\n",
       "      <td>8216</td>\n",
       "      <td>256</td>\n",
       "    </tr>\n",
       "    <tr>\n",
       "      <th>0</th>\n",
       "      <td>“</td>\n",
       "      <td>8220</td>\n",
       "      <td>220</td>\n",
       "    </tr>\n",
       "    <tr>\n",
       "      <th>2</th>\n",
       "      <td>”</td>\n",
       "      <td>8221</td>\n",
       "      <td>217</td>\n",
       "    </tr>\n",
       "    <tr>\n",
       "      <th>1</th>\n",
       "      <td>?</td>\n",
       "      <td>63</td>\n",
       "      <td>165</td>\n",
       "    </tr>\n",
       "    <tr>\n",
       "      <th>33</th>\n",
       "      <td>%</td>\n",
       "      <td>37</td>\n",
       "      <td>77</td>\n",
       "    </tr>\n",
       "    <tr>\n",
       "      <th>7</th>\n",
       "      <td>‥</td>\n",
       "      <td>8229</td>\n",
       "      <td>22</td>\n",
       "    </tr>\n",
       "    <tr>\n",
       "      <th>32</th>\n",
       "      <td>!</td>\n",
       "      <td>33</td>\n",
       "      <td>21</td>\n",
       "    </tr>\n",
       "    <tr>\n",
       "      <th>13</th>\n",
       "      <td>~</td>\n",
       "      <td>126</td>\n",
       "      <td>20</td>\n",
       "    </tr>\n",
       "    <tr>\n",
       "      <th>31</th>\n",
       "      <td>→</td>\n",
       "      <td>8594</td>\n",
       "      <td>11</td>\n",
       "    </tr>\n",
       "    <tr>\n",
       "      <th>4</th>\n",
       "      <td>∼</td>\n",
       "      <td>8764</td>\n",
       "      <td>11</td>\n",
       "    </tr>\n",
       "    <tr>\n",
       "      <th>37</th>\n",
       "      <td>`</td>\n",
       "      <td>96</td>\n",
       "      <td>10</td>\n",
       "    </tr>\n",
       "    <tr>\n",
       "      <th>5</th>\n",
       "      <td>+</td>\n",
       "      <td>43</td>\n",
       "      <td>10</td>\n",
       "    </tr>\n",
       "    <tr>\n",
       "      <th>30</th>\n",
       "      <td>↑</td>\n",
       "      <td>8593</td>\n",
       "      <td>9</td>\n",
       "    </tr>\n",
       "    <tr>\n",
       "      <th>27</th>\n",
       "      <td>↓</td>\n",
       "      <td>8595</td>\n",
       "      <td>9</td>\n",
       "    </tr>\n",
       "    <tr>\n",
       "      <th>28</th>\n",
       "      <td>&amp;</td>\n",
       "      <td>38</td>\n",
       "      <td>8</td>\n",
       "    </tr>\n",
       "    <tr>\n",
       "      <th>26</th>\n",
       "      <td>㎡</td>\n",
       "      <td>13217</td>\n",
       "      <td>8</td>\n",
       "    </tr>\n",
       "    <tr>\n",
       "      <th>6</th>\n",
       "      <td>:</td>\n",
       "      <td>58</td>\n",
       "      <td>7</td>\n",
       "    </tr>\n",
       "    <tr>\n",
       "      <th>8</th>\n",
       "      <td>&gt;</td>\n",
       "      <td>62</td>\n",
       "      <td>7</td>\n",
       "    </tr>\n",
       "    <tr>\n",
       "      <th>17</th>\n",
       "      <td>#</td>\n",
       "      <td>35</td>\n",
       "      <td>4</td>\n",
       "    </tr>\n",
       "    <tr>\n",
       "      <th>25</th>\n",
       "      <td>％</td>\n",
       "      <td>65285</td>\n",
       "      <td>2</td>\n",
       "    </tr>\n",
       "    <tr>\n",
       "      <th>22</th>\n",
       "      <td>℃</td>\n",
       "      <td>8451</td>\n",
       "      <td>2</td>\n",
       "    </tr>\n",
       "    <tr>\n",
       "      <th>20</th>\n",
       "      <td>［</td>\n",
       "      <td>65339</td>\n",
       "      <td>2</td>\n",
       "    </tr>\n",
       "    <tr>\n",
       "      <th>34</th>\n",
       "      <td>㎞</td>\n",
       "      <td>13214</td>\n",
       "      <td>2</td>\n",
       "    </tr>\n",
       "    <tr>\n",
       "      <th>18</th>\n",
       "      <td>］</td>\n",
       "      <td>65341</td>\n",
       "      <td>2</td>\n",
       "    </tr>\n",
       "    <tr>\n",
       "      <th>24</th>\n",
       "      <td>″</td>\n",
       "      <td>8243</td>\n",
       "      <td>1</td>\n",
       "    </tr>\n",
       "    <tr>\n",
       "      <th>29</th>\n",
       "      <td>㎝</td>\n",
       "      <td>13213</td>\n",
       "      <td>1</td>\n",
       "    </tr>\n",
       "    <tr>\n",
       "      <th>21</th>\n",
       "      <td>‧</td>\n",
       "      <td>8231</td>\n",
       "      <td>1</td>\n",
       "    </tr>\n",
       "    <tr>\n",
       "      <th>12</th>\n",
       "      <td>=</td>\n",
       "      <td>61</td>\n",
       "      <td>1</td>\n",
       "    </tr>\n",
       "    <tr>\n",
       "      <th>11</th>\n",
       "      <td>/</td>\n",
       "      <td>47</td>\n",
       "      <td>1</td>\n",
       "    </tr>\n",
       "    <tr>\n",
       "      <th>35</th>\n",
       "      <td>㎏</td>\n",
       "      <td>13199</td>\n",
       "      <td>1</td>\n",
       "    </tr>\n",
       "    <tr>\n",
       "      <th>36</th>\n",
       "      <td>㈜</td>\n",
       "      <td>12828</td>\n",
       "      <td>1</td>\n",
       "    </tr>\n",
       "  </tbody>\n",
       "</table>\n",
       "</div>"
      ],
      "text/plain": [
       "    0      1     2\n",
       "19  '     39  1080\n",
       "23  …   8230  1004\n",
       "9   \"     34   933\n",
       "15  ,     44   783\n",
       "10  .     46   486\n",
       "3   ·    183   371\n",
       "16  ’   8217   260\n",
       "14  ‘   8216   256\n",
       "0   “   8220   220\n",
       "2   ”   8221   217\n",
       "1   ?     63   165\n",
       "33  %     37    77\n",
       "7   ‥   8229    22\n",
       "32  !     33    21\n",
       "13  ~    126    20\n",
       "31  →   8594    11\n",
       "4   ∼   8764    11\n",
       "37  `     96    10\n",
       "5   +     43    10\n",
       "30  ↑   8593     9\n",
       "27  ↓   8595     9\n",
       "28  &     38     8\n",
       "26  ㎡  13217     8\n",
       "6   :     58     7\n",
       "8   >     62     7\n",
       "17  #     35     4\n",
       "25  ％  65285     2\n",
       "22  ℃   8451     2\n",
       "20  ［  65339     2\n",
       "34  ㎞  13214     2\n",
       "18  ］  65341     2\n",
       "24  ″   8243     1\n",
       "29  ㎝  13213     1\n",
       "21  ‧   8231     1\n",
       "12  =     61     1\n",
       "11  /     47     1\n",
       "35  ㎏  13199     1\n",
       "36  ㈜  12828     1"
      ]
     },
     "execution_count": 22,
     "metadata": {},
     "output_type": "execute_result"
    }
   ],
   "source": [
    "punct_info = pd.DataFrame([punct_freq.keys(), [ord(p) for p in punct_freq.keys()], punct_freq.values()]).T\n",
    "punct_info.sort_values(ascending=False, by=2)"
   ]
  },
  {
   "cell_type": "code",
   "execution_count": 23,
   "id": "e2ecdf34-779e-45b2-8bf0-5780a1254f28",
   "metadata": {},
   "outputs": [
    {
     "data": {
      "text/plain": [
       "38"
      ]
     },
     "execution_count": 23,
     "metadata": {},
     "output_type": "execute_result"
    }
   ],
   "source": [
    "len(punct_set)"
   ]
  },
  {
   "cell_type": "code",
   "execution_count": 24,
   "id": "f35f01cf-10fe-4081-86c4-4b8bb3c46ce5",
   "metadata": {},
   "outputs": [],
   "source": [
    "def get_impurity_score(title:str):\n",
    "    cpy = title[:]\n",
    "    cpy = re.sub(r'[\\(\\{\\[]+[ㄱ-ㅎ-가-힣\\w\\s,]+[^ㄱ-ㅎ-가-힣\\w\\s]*[\\]\\}\\)]+', '.', cpy)\n",
    "    cpy = re.sub(r'\\s', '', cpy)\n",
    "\n",
    "    n_chars = len(cpy) if len(cpy) != 0 else 1 # (copyright) 같은 제목 때문에 0 발생 -> 1로 처리\n",
    "    n_puncts = len(get_punct_list(cpy))\n",
    "    \n",
    "    return round(n_puncts / n_chars, 3)"
   ]
  },
  {
   "cell_type": "code",
   "execution_count": 25,
   "id": "7444e052-a7ae-4605-8b7a-883138148594",
   "metadata": {},
   "outputs": [
    {
     "data": {
      "text/plain": [
       "('김포시, 한강중앙공원 물놀이장 탈의실 설치 완료', 0.048)"
      ]
     },
     "execution_count": 25,
     "metadata": {},
     "output_type": "execute_result"
    }
   ],
   "source": [
    "titles[0], get_impurity_score(titles[0])"
   ]
  },
  {
   "cell_type": "code",
   "execution_count": 26,
   "id": "285fed28-eb6f-4a9d-8f76-0b0e944385b0",
   "metadata": {},
   "outputs": [
    {
     "data": {
      "text/plain": [
       "0.10291999999999998"
      ]
     },
     "execution_count": 26,
     "metadata": {},
     "output_type": "execute_result"
    }
   ],
   "source": [
    "titles.apply(get_impurity_score).mean()"
   ]
  },
  {
   "cell_type": "code",
   "execution_count": 27,
   "id": "b51934af-7e41-4fa6-891b-8709af018ad1",
   "metadata": {},
   "outputs": [
    {
     "data": {
      "text/plain": [
       "842     1.000\n",
       "1547    1.000\n",
       "162     1.000\n",
       "841     1.000\n",
       "2309    0.522\n",
       "        ...  \n",
       "1346    0.000\n",
       "1347    0.000\n",
       "1351    0.000\n",
       "1352    0.000\n",
       "2499    0.000\n",
       "Length: 2500, dtype: float64"
      ]
     },
     "execution_count": 27,
     "metadata": {},
     "output_type": "execute_result"
    }
   ],
   "source": [
    "titles.apply(get_impurity_score).sort_values(ascending=False)"
   ]
  },
  {
   "cell_type": "code",
   "execution_count": 39,
   "id": "53783879-fdd7-4777-9953-da27cf968e5f",
   "metadata": {},
   "outputs": [
    {
     "data": {
      "text/plain": [
       "842                            [전국 주요 신문 톱뉴스](13일 조간)\n",
       "1547                                   [김회룡의 시사 TOON]\n",
       "162                                       (Copyright)\n",
       "841                                [주요 신문 사설](13일 조간)\n",
       "2309                     [노컷한컷]175+12+3+1+1>>>>>>>108\n",
       "2388                          [오늘의 주요일정]사회(4월13일 토요일)\n",
       "2298                               [K-소비자 브랜드 대상] ㈜애반\n",
       "27                   與, 새 지도체제 '이견'...\"비대위\" vs \"전당대회\"\n",
       "1059                 \"벌써 여름?\"…서울·춘천 낮 최고 '30도' [내일날씨]\n",
       "1947    39.09%→54.49%→54.75%→58.3%…선거 치를수록 '우상향' 비결은?\n",
       "dtype: object"
      ]
     },
     "execution_count": 39,
     "metadata": {},
     "output_type": "execute_result"
    }
   ],
   "source": [
    "top_10_impurities = titles.apply(get_impurity_score).sort_values(ascending=False).head(10).index\n",
    "titles[top_10_impurities]"
   ]
  },
  {
   "cell_type": "code",
   "execution_count": 29,
   "id": "fd243d62-037a-4eac-9a0b-b43d5d8fc675",
   "metadata": {},
   "outputs": [
    {
     "data": {
      "text/plain": [
       "{65339: 91,\n",
       " 65285: 37,\n",
       " 65341: 93,\n",
       " 8243: 34,\n",
       " 8221: 34,\n",
       " 8216: 39,\n",
       " 8764: 126,\n",
       " 96: 39,\n",
       " 8217: 39,\n",
       " 8220: 34}"
      ]
     },
     "execution_count": 29,
     "metadata": {},
     "output_type": "execute_result"
    }
   ],
   "source": [
    "TRANSLATE_TABLE = { # 치환 후 없앨 것들 목록\n",
    "    ord(x) : ord(y) \n",
    "    for x, y\n",
    "    in [\n",
    "        ('［', '['),\n",
    "        ('％', '%'),\n",
    "        ('］', ']'),\n",
    "        ('″', '\"'),\n",
    "        ('”', '\"'),\n",
    "        ('‘', \"'\"),\n",
    "        ('∼', '~'),\n",
    "        ('`', \"'\"),\n",
    "        ('’', \"'\"),\n",
    "        ('“', '\"')\n",
    "    ]\n",
    "}\n",
    "\n",
    "TRANSLATE_TABLE"
   ]
  },
  {
   "cell_type": "raw",
   "id": "3636fd25-db7e-41e5-9c0d-b7f5bd58466d",
   "metadata": {},
   "source": [
    "('‧', 8231) ('!', 33)\n"
   ]
  },
  {
   "cell_type": "code",
   "execution_count": 30,
   "id": "ca851846-5244-45e5-859c-87bf788717e6",
   "metadata": {},
   "outputs": [],
   "source": [
    "def rep_sokbo_into_ub(title):\n",
    "    return re.sub(r'[\\(\\{\\[]+[ㄱ-ㅎ-가-힣\\w\\s,]+[^ㄱ-ㅎ-가-힣\\w\\s]*[\\]\\}\\)]+', '_', title)"
   ]
  },
  {
   "cell_type": "code",
   "execution_count": 31,
   "id": "80df7e12-05b8-4bb0-9a0c-d8d71f1f3d40",
   "metadata": {},
   "outputs": [],
   "source": [
    "def normalize_punct(title):\n",
    "    title = rep_sokbo_into_ub(title) # (속보), [단독] 따위의 [000의 건강상식]과 같은 요소들은 .으로 변경\n",
    "    title = title.translate(TRANSLATE_TABLE)\n",
    "    \n",
    "    title = tprep.normalize.quotation_marks(title) # 따옴표 정규화\n",
    "    \n",
    "    title = re.sub(r'\\.\\.(\\.)?', '…', title) # 말줄임표 정규화 ('..' , '...' -> '…')\n",
    "    \n",
    "    title = tprep.normalize.bullet_points(title)\n",
    "    title = re.sub(r'·', ' ', title) # 불릿 표현 정규화 + 띄어쓰기로 변형 -> 추후 품사 태깅 등을 통해 낱말 조합 등 진행\n",
    "\n",
    "    # 필요 없는 문장부호 제거 \n",
    "    # + '‥' 추가 : 041324 1318\n",
    "    title = tprep.remove.punctuation(title, only=['\\'', '\\\"', '…', ',', '‥', '!', '@', '#', '&', '/', '+', '=', '~', '?', '>', '_', '㈜'])\n",
    "    \n",
    "    title = re.sub('\\s+', ' ', title) # 위에서 생긴 연속 공백 제거\n",
    "    title = title.strip() # 양 끝 공백 제거\n",
    "    \n",
    "    return title"
   ]
  },
  {
   "cell_type": "raw",
   "id": "63cc558d-dc19-49f9-9713-3798053e43e6",
   "metadata": {},
   "source": [
    "('/', 47) ('&', 38) ('％', 65285) ('″', 8243) ('+', 43) ('\"', 34) ('‥', 8229) ('㎞', 13214) ('=', 61) ('㎡', 13217) ('#', 35) ('“', 8220) ('~', 126) ('］', 65341) ('［', 65339) (',', 44) ('㎝', 13213) ('㈜', 12828) ('↑', 8593) ('㎏', 13199) ('…', 8230) ('?', 63) (\"'\", 39) ('`', 96) ('↓', 8595) ('‘', 8216) ('.', 46) ('!', 33) ('→', 8594) ('>', 62) ('‧', 8231) ('℃', 8451) ('%', 37) (':', 58) ('”', 8221) ('·', 183) ('∼', 8764)"
   ]
  },
  {
   "cell_type": "code",
   "execution_count": 32,
   "id": "f7c85182-cb82-4f90-ad81-c7a416b693d6",
   "metadata": {},
   "outputs": [
    {
     "data": {
      "text/plain": [
       "0.0035619999999999996"
      ]
     },
     "execution_count": 32,
     "metadata": {},
     "output_type": "execute_result"
    }
   ],
   "source": [
    "clean_titles = titles.apply(normalize_punct)\n",
    "clean_titles.apply(get_impurity_score).mean()"
   ]
  },
  {
   "cell_type": "raw",
   "id": "2eb7ddd1-5bdc-4ada-aaab-8a12bdac12aa",
   "metadata": {},
   "source": [
    "import sys\n",
    "puncts = [\n",
    "    chr(i)\n",
    "    for i in range(sys.maxunicode)\n",
    "    if unicodedata.category(chr(i)).startswith(\"P\")\n",
    "]\n"
   ]
  },
  {
   "cell_type": "code",
   "execution_count": 33,
   "id": "97d7557a-b575-4806-9caa-45bb50e56d28",
   "metadata": {},
   "outputs": [
    {
     "data": {
      "text/plain": [
       "842                                               \n",
       "1547                                              \n",
       "162                                               \n",
       "841                                               \n",
       "2309                              175 12 3 1 1 108\n",
       "2388                                            사회\n",
       "2298                                            애반\n",
       "27                         與 새 지도체제 이견 비대위 vs 전당대회\n",
       "1059                          벌써 여름 서울 춘천 낮 최고 30도\n",
       "1947    39.09%→54.49%→54.75%→58.3% 선거 치를수록 우상향 비결은\n",
       "dtype: object"
      ]
     },
     "execution_count": 33,
     "metadata": {},
     "output_type": "execute_result"
    }
   ],
   "source": [
    "clean_titles[top_10_impurities]"
   ]
  },
  {
   "cell_type": "code",
   "execution_count": 34,
   "id": "e2c1dc61-9d7b-4168-b841-849f57de9147",
   "metadata": {},
   "outputs": [
    {
     "data": {
      "text/plain": [
       "\"''\""
      ]
     },
     "execution_count": 34,
     "metadata": {},
     "output_type": "execute_result"
    }
   ],
   "source": [
    "repr(clean_titles[842])"
   ]
  },
  {
   "cell_type": "code",
   "execution_count": 35,
   "id": "cef81fd7-7cf8-4981-b81b-b2fb1c67103f",
   "metadata": {},
   "outputs": [
    {
     "data": {
      "text/plain": [
       "0"
      ]
     },
     "execution_count": 35,
     "metadata": {},
     "output_type": "execute_result"
    }
   ],
   "source": [
    "len(clean_titles[842])"
   ]
  },
  {
   "cell_type": "code",
   "execution_count": 36,
   "id": "d0de0d43-bd1c-49a1-b7dc-2de8038717c0",
   "metadata": {},
   "outputs": [
    {
     "name": "stdout",
     "output_type": "stream",
     "text": [
      "<class 'pandas.core.series.Series'>\n",
      "RangeIndex: 2500 entries, 0 to 2499\n",
      "Series name: None\n",
      "Non-Null Count  Dtype \n",
      "--------------  ----- \n",
      "2500 non-null   object\n",
      "dtypes: object(1)\n",
      "memory usage: 330.5 KB\n"
     ]
    }
   ],
   "source": [
    "titles.info(memory_usage='deep')"
   ]
  },
  {
   "cell_type": "code",
   "execution_count": 37,
   "id": "92b0d301-cbb9-4525-8cef-ca5c0beffe96",
   "metadata": {},
   "outputs": [
    {
     "name": "stdout",
     "output_type": "stream",
     "text": [
      "<class 'pandas.core.series.Series'>\n",
      "RangeIndex: 2500 entries, 0 to 2499\n",
      "Series name: None\n",
      "Non-Null Count  Dtype \n",
      "--------------  ----- \n",
      "2500 non-null   object\n",
      "dtypes: object(1)\n",
      "memory usage: 314.5 KB\n"
     ]
    }
   ],
   "source": [
    "clean_titles.info(memory_usage='deep')"
   ]
  },
  {
   "cell_type": "code",
   "execution_count": 38,
   "id": "f893b714-204b-44f0-9fca-344bdd98cd9e",
   "metadata": {},
   "outputs": [
    {
     "data": {
      "text/plain": [
       "4"
      ]
     },
     "execution_count": 38,
     "metadata": {},
     "output_type": "execute_result"
    }
   ],
   "source": [
    "(clean_titles == '').sum()"
   ]
  },
  {
   "cell_type": "code",
   "execution_count": null,
   "id": "25be822c-b541-4abb-b90e-7b1268025560",
   "metadata": {},
   "outputs": [],
   "source": []
  }
 ],
 "metadata": {
  "kernelspec": {
   "display_name": "Python 3 (ipykernel)",
   "language": "python",
   "name": "python3"
  },
  "language_info": {
   "codemirror_mode": {
    "name": "ipython",
    "version": 3
   },
   "file_extension": ".py",
   "mimetype": "text/x-python",
   "name": "python",
   "nbconvert_exporter": "python",
   "pygments_lexer": "ipython3",
   "version": "3.11.8"
  }
 },
 "nbformat": 4,
 "nbformat_minor": 5
}
