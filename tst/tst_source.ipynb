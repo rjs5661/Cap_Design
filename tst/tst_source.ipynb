{
 "cells": [
  {
   "cell_type": "code",
   "execution_count": 1,
   "id": "0dbf4dfc-1239-48bd-91e7-18deceecb17e",
   "metadata": {},
   "outputs": [],
   "source": [
    "from bs4 import BeautifulSoup\n",
    "import datetime\n",
    "import numpy as np\n",
    "import pandas as pd\n",
    "import pickle\n",
    "import re\n",
    "import requests\n",
    "import time"
   ]
  },
  {
   "cell_type": "code",
   "execution_count": 19,
   "id": "b8a0e20a-3fc4-4489-909e-c46311008ebd",
   "metadata": {},
   "outputs": [],
   "source": [
    "def get_max_page(date):\n",
    "\n",
    "    BASE_URL = 'https://news.naver.com/main/list.naver?mode=LSD&mid=sec&listType=title&'\n",
    "\n",
    "    last_page = 1000\n",
    "\n",
    "    while True:\n",
    "        url = BASE_URL\n",
    "        url += f'date={date}&'\n",
    "        url += f'page={last_page}'\n",
    "\n",
    "        res = requests.get(url)\n",
    "        bs = BeautifulSoup(res.text)\n",
    "        time.sleep(1)\n",
    "\n",
    "        has_next = bs.find('a', class_='next nclicks(fls.page)')\n",
    "        page_list = bs.find('div', class_='paging')\n",
    "        \n",
    "        if not has_next and last_page >= int(page_list.find('strong').get_text()):\n",
    "            last_page = int(page_list.find('strong').get_text())\n",
    "            break\n",
    "        else :\n",
    "            last_page += 1000\n",
    "\n",
    "\n",
    "    return last_page"
   ]
  },
  {
   "cell_type": "code",
   "execution_count": 55,
   "id": "eb59d79d-d151-4f5f-a1f3-5afeeffc4396",
   "metadata": {},
   "outputs": [],
   "source": [
    "def get_max_page_list(date_start, date_end):\n",
    "    \n",
    "    period = pd.date_range(date_start, date_end)\n",
    "    max_pages = []\n",
    "\n",
    "    for ts in period:\n",
    "        date = str(ts.year) + str(ts.month).zfill(2) + str(ts.day).zfill(2)\n",
    "        max_pages.append(get_max_page(date))\n",
    "        #print(f'MAX PAGE IN {date} : {max_pages[-1]}')\n",
    "\n",
    "    return list(zip(period, max_pages))"
   ]
  },
  {
   "cell_type": "code",
   "execution_count": 48,
   "id": "e466df13-a954-4d84-b757-4be2fb385304",
   "metadata": {},
   "outputs": [
    {
     "name": "stdout",
     "output_type": "stream",
     "text": [
      "MAX PAGE IN 20240101 : 248\n",
      "MAX PAGE IN 20240102 : 466\n",
      "MAX PAGE IN 20240103 : 428\n",
      "MAX PAGE IN 20240104 : 435\n",
      "MAX PAGE IN 20240105 : 340\n",
      "MAX PAGE IN 20240106 : 107\n",
      "MAX PAGE IN 20240107 : 168\n",
      "MAX PAGE IN 20240108 : 419\n",
      "MAX PAGE IN 20240109 : 458\n",
      "MAX PAGE IN 20240110 : 464\n",
      "MAX PAGE IN 20240111 : 456\n",
      "MAX PAGE IN 20240112 : 334\n",
      "MAX PAGE IN 20240113 : 107\n",
      "MAX PAGE IN 20240114 : 180\n",
      "MAX PAGE IN 20240115 : 422\n",
      "MAX PAGE IN 20240116 : 457\n",
      "MAX PAGE IN 20240117 : 456\n",
      "MAX PAGE IN 20240118 : 454\n",
      "MAX PAGE IN 20240119 : 345\n",
      "MAX PAGE IN 20240120 : 104\n",
      "MAX PAGE IN 20240121 : 177\n",
      "MAX PAGE IN 20240122 : 422\n",
      "MAX PAGE IN 20240123 : 448\n",
      "MAX PAGE IN 20240124 : 460\n",
      "MAX PAGE IN 20240125 : 493\n",
      "MAX PAGE IN 20240126 : 349\n",
      "MAX PAGE IN 20240127 : 101\n",
      "MAX PAGE IN 20240128 : 173\n",
      "MAX PAGE IN 20240129 : 443\n",
      "MAX PAGE IN 20240130 : 485\n",
      "MAX PAGE IN 20240131 : 494\n",
      "MAX PAGE IN 20240201 : 519\n",
      "MAX PAGE IN 20240202 : 388\n",
      "MAX PAGE IN 20240203 : 123\n",
      "MAX PAGE IN 20240204 : 206\n",
      "MAX PAGE IN 20240205 : 488\n",
      "MAX PAGE IN 20240206 : 504\n",
      "MAX PAGE IN 20240207 : 510\n",
      "MAX PAGE IN 20240208 : 402\n",
      "MAX PAGE IN 20240209 : 160\n",
      "MAX PAGE IN 20240210 : 118\n",
      "MAX PAGE IN 20240211 : 109\n",
      "MAX PAGE IN 20240212 : 208\n",
      "MAX PAGE IN 20240213 : 423\n",
      "MAX PAGE IN 20240214 : 476\n",
      "MAX PAGE IN 20240215 : 491\n",
      "MAX PAGE IN 20240216 : 385\n",
      "MAX PAGE IN 20240217 : 120\n",
      "MAX PAGE IN 20240218 : 187\n",
      "MAX PAGE IN 20240219 : 454\n",
      "MAX PAGE IN 20240220 : 471\n",
      "MAX PAGE IN 20240221 : 481\n",
      "MAX PAGE IN 20240222 : 501\n",
      "MAX PAGE IN 20240223 : 388\n",
      "MAX PAGE IN 20240224 : 141\n",
      "MAX PAGE IN 20240225 : 223\n",
      "MAX PAGE IN 20240226 : 489\n",
      "MAX PAGE IN 20240227 : 483\n",
      "MAX PAGE IN 20240228 : 526\n",
      "MAX PAGE IN 20240229 : 474\n",
      "MAX PAGE IN 20240301 : 222\n",
      "MAX PAGE IN 20240302 : 124\n",
      "MAX PAGE IN 20240303 : 207\n",
      "MAX PAGE IN 20240304 : 484\n",
      "MAX PAGE IN 20240305 : 495\n",
      "MAX PAGE IN 20240306 : 503\n",
      "MAX PAGE IN 20240307 : 493\n",
      "MAX PAGE IN 20240308 : 410\n",
      "MAX PAGE IN 20240309 : 127\n",
      "MAX PAGE IN 20240310 : 207\n",
      "MAX PAGE IN 20240311 : 501\n",
      "MAX PAGE IN 20240312 : 482\n",
      "MAX PAGE IN 20240313 : 483\n",
      "MAX PAGE IN 20240314 : 509\n",
      "MAX PAGE IN 20240315 : 401\n",
      "MAX PAGE IN 20240316 : 139\n",
      "MAX PAGE IN 20240317 : 210\n",
      "MAX PAGE IN 20240318 : 467\n",
      "MAX PAGE IN 20240319 : 488\n",
      "MAX PAGE IN 20240320 : 505\n",
      "MAX PAGE IN 20240321 : 530\n",
      "MAX PAGE IN 20240322 : 407\n",
      "MAX PAGE IN 20240323 : 131\n",
      "MAX PAGE IN 20240324 : 206\n",
      "MAX PAGE IN 20240325 : 465\n",
      "MAX PAGE IN 20240326 : 504\n",
      "MAX PAGE IN 20240327 : 485\n",
      "MAX PAGE IN 20240328 : 566\n",
      "MAX PAGE IN 20240329 : 420\n",
      "MAX PAGE IN 20240330 : 135\n",
      "MAX PAGE IN 20240331 : 234\n",
      "MAX PAGE IN 20240401 : 487\n",
      "MAX PAGE IN 20240402 : 476\n",
      "MAX PAGE IN 20240403 : 492\n",
      "MAX PAGE IN 20240404 : 503\n",
      "MAX PAGE IN 20240405 : 458\n",
      "MAX PAGE IN 20240406 : 151\n",
      "MAX PAGE IN 20240407 : 196\n",
      "MAX PAGE IN 20240408 : 460\n",
      "MAX PAGE IN 20240409 : 444\n",
      "MAX PAGE IN 20240410 : 384\n",
      "MAX PAGE IN 20240411 : 521\n",
      "MAX PAGE IN 20240412 : 356\n",
      "MAX PAGE IN 20240413 : 121\n",
      "MAX PAGE IN 20240414 : 201\n",
      "MAX PAGE IN 20240415 : 468\n",
      "MAX PAGE IN 20240416 : 486\n",
      "MAX PAGE IN 20240417 : 468\n",
      "MAX PAGE IN 20240418 : 481\n",
      "MAX PAGE IN 20240419 : 414\n",
      "MAX PAGE IN 20240420 : 123\n",
      "MAX PAGE IN 20240421 : 184\n",
      "MAX PAGE IN 20240422 : 472\n",
      "MAX PAGE IN 20240423 : 472\n",
      "MAX PAGE IN 20240424 : 470\n",
      "MAX PAGE IN 20240425 : 518\n"
     ]
    }
   ],
   "source": [
    "max_pages = get_max_page_list('20230101', '20231231')"
   ]
  },
  {
   "cell_type": "code",
   "execution_count": 24,
   "id": "55f0e6fb-0eae-4196-bf1e-e8e9a3ace5fc",
   "metadata": {},
   "outputs": [
    {
     "data": {
      "text/plain": [
       "Timestamp('2024-01-01 00:00:00')"
      ]
     },
     "execution_count": 24,
     "metadata": {},
     "output_type": "execute_result"
    }
   ],
   "source": [
    "period = pd.date_range('20240101', '20240420')\n",
    "period[0]"
   ]
  },
  {
   "cell_type": "code",
   "execution_count": 38,
   "id": "9bf9d2fb-e5f9-4ae6-8fcc-9af7a4de34a4",
   "metadata": {},
   "outputs": [
    {
     "data": {
      "text/plain": [
       "'20240101'"
      ]
     },
     "execution_count": 38,
     "metadata": {},
     "output_type": "execute_result"
    }
   ],
   "source": [
    "str(period[0].year) + str(period[0].month).zfill(2) + str(period[0].day).zfill(2)"
   ]
  },
  {
   "cell_type": "code",
   "execution_count": 56,
   "id": "ab882fd4-f64e-440f-ac8f-3ee3f082150d",
   "metadata": {},
   "outputs": [
    {
     "data": {
      "text/plain": [
       "DatetimeIndex(['2024-01-01'], dtype='datetime64[ns]', freq='D')"
      ]
     },
     "execution_count": 56,
     "metadata": {},
     "output_type": "execute_result"
    }
   ],
   "source": [
    "pd.date_range('20240101', '20240101')"
   ]
  },
  {
   "cell_type": "code",
   "execution_count": 49,
   "id": "b6b03d95-04a8-4192-9f2e-8a9da98550a9",
   "metadata": {},
   "outputs": [
    {
     "data": {
      "text/html": [
       "<div>\n",
       "<style scoped>\n",
       "    .dataframe tbody tr th:only-of-type {\n",
       "        vertical-align: middle;\n",
       "    }\n",
       "\n",
       "    .dataframe tbody tr th {\n",
       "        vertical-align: top;\n",
       "    }\n",
       "\n",
       "    .dataframe thead th {\n",
       "        text-align: right;\n",
       "    }\n",
       "</style>\n",
       "<table border=\"1\" class=\"dataframe\">\n",
       "  <thead>\n",
       "    <tr style=\"text-align: right;\">\n",
       "      <th></th>\n",
       "      <th>0</th>\n",
       "      <th>1</th>\n",
       "    </tr>\n",
       "  </thead>\n",
       "  <tbody>\n",
       "    <tr>\n",
       "      <th>0</th>\n",
       "      <td>2024-01-01</td>\n",
       "      <td>248</td>\n",
       "    </tr>\n",
       "    <tr>\n",
       "      <th>1</th>\n",
       "      <td>2024-01-02</td>\n",
       "      <td>466</td>\n",
       "    </tr>\n",
       "    <tr>\n",
       "      <th>2</th>\n",
       "      <td>2024-01-03</td>\n",
       "      <td>428</td>\n",
       "    </tr>\n",
       "    <tr>\n",
       "      <th>3</th>\n",
       "      <td>2024-01-04</td>\n",
       "      <td>435</td>\n",
       "    </tr>\n",
       "    <tr>\n",
       "      <th>4</th>\n",
       "      <td>2024-01-05</td>\n",
       "      <td>340</td>\n",
       "    </tr>\n",
       "    <tr>\n",
       "      <th>...</th>\n",
       "      <td>...</td>\n",
       "      <td>...</td>\n",
       "    </tr>\n",
       "    <tr>\n",
       "      <th>111</th>\n",
       "      <td>2024-04-21</td>\n",
       "      <td>184</td>\n",
       "    </tr>\n",
       "    <tr>\n",
       "      <th>112</th>\n",
       "      <td>2024-04-22</td>\n",
       "      <td>472</td>\n",
       "    </tr>\n",
       "    <tr>\n",
       "      <th>113</th>\n",
       "      <td>2024-04-23</td>\n",
       "      <td>472</td>\n",
       "    </tr>\n",
       "    <tr>\n",
       "      <th>114</th>\n",
       "      <td>2024-04-24</td>\n",
       "      <td>470</td>\n",
       "    </tr>\n",
       "    <tr>\n",
       "      <th>115</th>\n",
       "      <td>2024-04-25</td>\n",
       "      <td>518</td>\n",
       "    </tr>\n",
       "  </tbody>\n",
       "</table>\n",
       "<p>116 rows × 2 columns</p>\n",
       "</div>"
      ],
      "text/plain": [
       "             0    1\n",
       "0   2024-01-01  248\n",
       "1   2024-01-02  466\n",
       "2   2024-01-03  428\n",
       "3   2024-01-04  435\n",
       "4   2024-01-05  340\n",
       "..         ...  ...\n",
       "111 2024-04-21  184\n",
       "112 2024-04-22  472\n",
       "113 2024-04-23  472\n",
       "114 2024-04-24  470\n",
       "115 2024-04-25  518\n",
       "\n",
       "[116 rows x 2 columns]"
      ]
     },
     "execution_count": 49,
     "metadata": {},
     "output_type": "execute_result"
    }
   ],
   "source": [
    "df = pd.DataFrame(max_pages)\n",
    "df"
   ]
  },
  {
   "cell_type": "code",
   "execution_count": 51,
   "id": "480ec68a-b22a-4082-9740-b56547a389c7",
   "metadata": {},
   "outputs": [
    {
     "data": {
      "text/plain": [
       "367.9913793103448"
      ]
     },
     "execution_count": 51,
     "metadata": {},
     "output_type": "execute_result"
    }
   ],
   "source": [
    "df[1].mean()"
   ]
  },
  {
   "cell_type": "code",
   "execution_count": 58,
   "id": "0363dc6b-265e-4fd6-85c4-aeebec08e83b",
   "metadata": {},
   "outputs": [
    {
     "data": {
      "text/html": [
       "<div>\n",
       "<style scoped>\n",
       "    .dataframe tbody tr th:only-of-type {\n",
       "        vertical-align: middle;\n",
       "    }\n",
       "\n",
       "    .dataframe tbody tr th {\n",
       "        vertical-align: top;\n",
       "    }\n",
       "\n",
       "    .dataframe thead th {\n",
       "        text-align: right;\n",
       "    }\n",
       "</style>\n",
       "<table border=\"1\" class=\"dataframe\">\n",
       "  <thead>\n",
       "    <tr style=\"text-align: right;\">\n",
       "      <th></th>\n",
       "      <th>0</th>\n",
       "      <th>1</th>\n",
       "    </tr>\n",
       "  </thead>\n",
       "  <tbody>\n",
       "    <tr>\n",
       "      <th>26</th>\n",
       "      <td>2024-01-27</td>\n",
       "      <td>101</td>\n",
       "    </tr>\n",
       "  </tbody>\n",
       "</table>\n",
       "</div>"
      ],
      "text/plain": [
       "            0    1\n",
       "26 2024-01-27  101"
      ]
     },
     "execution_count": 58,
     "metadata": {},
     "output_type": "execute_result"
    }
   ],
   "source": [
    "df[df[1] == df[1].min()]"
   ]
  },
  {
   "cell_type": "code",
   "execution_count": 54,
   "id": "f2ce8a76-732c-4bc7-8710-efc469727fdb",
   "metadata": {},
   "outputs": [
    {
     "data": {
      "text/plain": [
       "<Axes: >"
      ]
     },
     "execution_count": 54,
     "metadata": {},
     "output_type": "execute_result"
    },
    {
     "data": {
      "image/png": "[encoded data removed]",
      "text/plain": [
       "<Figure size 640x480 with 1 Axes>"
      ]
     },
     "metadata": {},
     "output_type": "display_data"
    }
   ],
   "source": [
    "df[1].hist()"
   ]
  },
  {
   "cell_type": "code",
   "execution_count": null,
   "id": "03e2ee71-b9b8-4bab-9183-3dc1eec69e19",
   "metadata": {},
   "outputs": [],
   "source": []
  }
 ],
 "metadata": {
  "kernelspec": {
   "display_name": "Python 3 (ipykernel)",
   "language": "python",
   "name": "python3"
  },
  "language_info": {
   "codemirror_mode": {
    "name": "ipython",
    "version": 3
   },
   "file_extension": ".py",
   "mimetype": "text/x-python",
   "name": "python",
   "nbconvert_exporter": "python",
   "pygments_lexer": "ipython3",
   "version": "3.11.8"
  }
 },
 "nbformat": 4,
 "nbformat_minor": 5
}
